{
 "cells": [
  {
   "cell_type": "markdown",
   "metadata": {},
   "source": [
    "## Import libraries"
   ]
  },
  {
   "cell_type": "code",
   "execution_count": 1,
   "metadata": {},
   "outputs": [
    {
     "name": "stderr",
     "output_type": "stream",
     "text": [
      "/Users/petermilner/anaconda3/lib/python3.7/site-packages/sklearn/ensemble/weight_boosting.py:29: DeprecationWarning: numpy.core.umath_tests is an internal NumPy module and should not be imported. It will be removed in a future NumPy release.\n",
      "  from numpy.core.umath_tests import inner1d\n"
     ]
    }
   ],
   "source": [
    "import pandas as pd\n",
    "import matplotlib.pyplot as plt\n",
    "import numpy as np\n",
    "from sklearn.preprocessing import LabelEncoder, OneHotEncoder, MinMaxScaler\n",
    "from sklearn.ensemble import RandomForestRegressor\n",
    "from sklearn.metrics import mean_squared_error"
   ]
  },
  {
   "cell_type": "markdown",
   "metadata": {},
   "source": [
    "## Load Dataset"
   ]
  },
  {
   "cell_type": "code",
   "execution_count": 2,
   "metadata": {},
   "outputs": [],
   "source": [
    "data = pd.read_csv('../data/processed/matches-2018-11-18T19:33:05.278801.csv', delimiter=',')"
   ]
  },
  {
   "cell_type": "code",
   "execution_count": 3,
   "metadata": {},
   "outputs": [],
   "source": [
    "# Based on previous investigation\n",
    "useless_columns = ['id', 'killPoints', 'killPointsDelta', 'rankPoints', 'winPoints', 'winPointsDelta',\n",
    "                   'stats', 'tags', 'createdAt', 'name', 'playerId', 'lastWinPoints', 'lastKillPoints',\n",
    "                   'titleId', 'shardId', 'seasonState', 'isCustomMatch', 'mostDamage', 'groupRank']\n",
    "y_column = 'winPlace'"
   ]
  },
  {
   "cell_type": "markdown",
   "metadata": {},
   "source": [
    "## Split Sets"
   ]
  },
  {
   "cell_type": "code",
   "execution_count": 4,
   "metadata": {},
   "outputs": [],
   "source": [
    "data = data.drop(columns=useless_columns)\n",
    "\n",
    "# Grab 80% of data for training at random\n",
    "train = data.sample(frac=0.8)\n",
    "test = data.drop(train.index)\n",
    "\n",
    "train_Y = train[y_column]\n",
    "train_X = train.drop(columns=[y_column])\n",
    "\n",
    "test_Y = test[y_column]\n",
    "test_X = test.drop(columns=[y_column])"
   ]
  },
  {
   "cell_type": "markdown",
   "metadata": {},
   "source": [
    "## Pre-processing"
   ]
  },
  {
   "cell_type": "code",
   "execution_count": 5,
   "metadata": {},
   "outputs": [],
   "source": [
    "# Create subsets of columns\n",
    "\n",
    "categorical_columns = ['deathType', 'mapName', 'gameMode']\n",
    "ordinal_columns = ['groupId', 'matchId']\n",
    "# Ordinal columns are different from other_columns because they need to be encoded\n",
    "other_columns = list(set(train_X.columns.values) - set(categorical_columns) - set(ordinal_columns))"
   ]
  },
  {
   "cell_type": "code",
   "execution_count": 6,
   "metadata": {},
   "outputs": [],
   "source": [
    "# Vectorize categorical columns\n",
    "\n",
    "for c in categorical_columns:\n",
    "    le = LabelEncoder()\n",
    "    train_X[c] = le.fit_transform(train_X[c])\n",
    "    ohe = OneHotEncoder(sparse = False)\n",
    "    train_X = train_X.join(pd.DataFrame(list(ohe.fit_transform(train_X.pop(c).values.reshape(-1, 1))), columns = ['{}-{}'.format(c, i) for i in ohe.active_features_], index = train_X.index))\n",
    "    test_X[c] = le.transform(test_X[c])\n",
    "    test_X = test_X.join(pd.DataFrame(list(ohe.transform(test_X.pop(c).values.reshape(-1, 1))), columns = ['{}-{}'.format(c, i) for i in ohe.active_features_], index = test_X.index))"
   ]
  },
  {
   "cell_type": "code",
   "execution_count": 7,
   "metadata": {},
   "outputs": [],
   "source": [
    "# Encode ids\n",
    "\n",
    "for c in ordinal_columns:\n",
    "    le = LabelEncoder()\n",
    "    train_X[c] = le.fit_transform(train_X[c])\n",
    "    test_X[c] = le.transform(test_X[c])"
   ]
  },
  {
   "cell_type": "code",
   "execution_count": 8,
   "metadata": {},
   "outputs": [
    {
     "name": "stderr",
     "output_type": "stream",
     "text": [
      "/Users/petermilner/anaconda3/lib/python3.7/site-packages/sklearn/utils/validation.py:475: DataConversionWarning: Data with input dtype int64 was converted to float64 by MinMaxScaler.\n",
      "  warnings.warn(msg, DataConversionWarning)\n"
     ]
    }
   ],
   "source": [
    "# Scale\n",
    "\n",
    "for c in other_columns:\n",
    "    s = MinMaxScaler()\n",
    "    train_X[c] = s.fit_transform(train_X[c].values.reshape(-1, 1))\n",
    "    test_X[c] = s.transform(test_X[c].values.reshape(-1, 1))"
   ]
  },
  {
   "cell_type": "markdown",
   "metadata": {},
   "source": [
    "## Random Forest"
   ]
  },
  {
   "cell_type": "code",
   "execution_count": 9,
   "metadata": {},
   "outputs": [
    {
     "name": "stdout",
     "output_type": "stream",
     "text": [
      "Error: 6.87913949419437\n",
      "Train Error: 1.1842878161285193\n"
     ]
    }
   ],
   "source": [
    "rfr = RandomForestRegressor()\n",
    "rfr.fit(X=train_X, y=train_Y)\n",
    "\n",
    "pred = rfr.predict(test_X)\n",
    "\n",
    "pred_test = rfr.predict(train_X)\n",
    "\n",
    "print('Error: {}'.format(mean_squared_error(test_Y, pred)))\n",
    "print('Train Error: {}'.format(mean_squared_error(train_Y, pred_test)))"
   ]
  },
  {
   "cell_type": "markdown",
   "metadata": {},
   "source": [
    "## Feature Importances"
   ]
  },
  {
   "cell_type": "code",
   "execution_count": 10,
   "metadata": {},
   "outputs": [
    {
     "data": {
      "text/html": [
       "<div>\n",
       "<style scoped>\n",
       "    .dataframe tbody tr th:only-of-type {\n",
       "        vertical-align: middle;\n",
       "    }\n",
       "\n",
       "    .dataframe tbody tr th {\n",
       "        vertical-align: top;\n",
       "    }\n",
       "\n",
       "    .dataframe thead th {\n",
       "        text-align: right;\n",
       "    }\n",
       "</style>\n",
       "<table border=\"1\" class=\"dataframe\">\n",
       "  <thead>\n",
       "    <tr style=\"text-align: right;\">\n",
       "      <th></th>\n",
       "      <th>importance</th>\n",
       "    </tr>\n",
       "  </thead>\n",
       "  <tbody>\n",
       "    <tr>\n",
       "      <th>groupCount</th>\n",
       "      <td>4.027869e-01</td>\n",
       "    </tr>\n",
       "    <tr>\n",
       "      <th>walkDistance</th>\n",
       "      <td>3.682531e-01</td>\n",
       "    </tr>\n",
       "    <tr>\n",
       "      <th>timeSurvived</th>\n",
       "      <td>1.029022e-01</td>\n",
       "    </tr>\n",
       "    <tr>\n",
       "      <th>killPlace</th>\n",
       "      <td>8.520062e-02</td>\n",
       "    </tr>\n",
       "    <tr>\n",
       "      <th>duration</th>\n",
       "      <td>1.495020e-02</td>\n",
       "    </tr>\n",
       "    <tr>\n",
       "      <th>mapName-3</th>\n",
       "      <td>7.107231e-03</td>\n",
       "    </tr>\n",
       "    <tr>\n",
       "      <th>deathType-0</th>\n",
       "      <td>2.714784e-03</td>\n",
       "    </tr>\n",
       "    <tr>\n",
       "      <th>playerCount</th>\n",
       "      <td>2.577951e-03</td>\n",
       "    </tr>\n",
       "    <tr>\n",
       "      <th>matchId</th>\n",
       "      <td>2.047878e-03</td>\n",
       "    </tr>\n",
       "    <tr>\n",
       "      <th>kills</th>\n",
       "      <td>1.489373e-03</td>\n",
       "    </tr>\n",
       "    <tr>\n",
       "      <th>killStreaks</th>\n",
       "      <td>1.377950e-03</td>\n",
       "    </tr>\n",
       "    <tr>\n",
       "      <th>groupId</th>\n",
       "      <td>1.305666e-03</td>\n",
       "    </tr>\n",
       "    <tr>\n",
       "      <th>longestKill</th>\n",
       "      <td>1.049342e-03</td>\n",
       "    </tr>\n",
       "    <tr>\n",
       "      <th>damageDealt</th>\n",
       "      <td>1.001712e-03</td>\n",
       "    </tr>\n",
       "    <tr>\n",
       "      <th>weaponsAcquired</th>\n",
       "      <td>7.272650e-04</td>\n",
       "    </tr>\n",
       "    <tr>\n",
       "      <th>gameMode-3</th>\n",
       "      <td>5.825758e-04</td>\n",
       "    </tr>\n",
       "    <tr>\n",
       "      <th>gameMode-2</th>\n",
       "      <td>4.984325e-04</td>\n",
       "    </tr>\n",
       "    <tr>\n",
       "      <th>rideDistance</th>\n",
       "      <td>4.631846e-04</td>\n",
       "    </tr>\n",
       "    <tr>\n",
       "      <th>heals</th>\n",
       "      <td>3.497360e-04</td>\n",
       "    </tr>\n",
       "    <tr>\n",
       "      <th>mapName-0</th>\n",
       "      <td>3.330245e-04</td>\n",
       "    </tr>\n",
       "    <tr>\n",
       "      <th>boosts</th>\n",
       "      <td>3.057851e-04</td>\n",
       "    </tr>\n",
       "    <tr>\n",
       "      <th>gameMode-0</th>\n",
       "      <td>2.683809e-04</td>\n",
       "    </tr>\n",
       "    <tr>\n",
       "      <th>mapName-1</th>\n",
       "      <td>2.575187e-04</td>\n",
       "    </tr>\n",
       "    <tr>\n",
       "      <th>gameMode-1</th>\n",
       "      <td>2.488774e-04</td>\n",
       "    </tr>\n",
       "    <tr>\n",
       "      <th>assists</th>\n",
       "      <td>2.172223e-04</td>\n",
       "    </tr>\n",
       "    <tr>\n",
       "      <th>gameMode-5</th>\n",
       "      <td>1.863405e-04</td>\n",
       "    </tr>\n",
       "    <tr>\n",
       "      <th>swimDistance</th>\n",
       "      <td>1.695401e-04</td>\n",
       "    </tr>\n",
       "    <tr>\n",
       "      <th>DBNOs</th>\n",
       "      <td>1.399128e-04</td>\n",
       "    </tr>\n",
       "    <tr>\n",
       "      <th>headshotKills</th>\n",
       "      <td>1.383145e-04</td>\n",
       "    </tr>\n",
       "    <tr>\n",
       "      <th>gameMode-4</th>\n",
       "      <td>1.012011e-04</td>\n",
       "    </tr>\n",
       "    <tr>\n",
       "      <th>revives</th>\n",
       "      <td>7.857565e-05</td>\n",
       "    </tr>\n",
       "    <tr>\n",
       "      <th>deathType-2</th>\n",
       "      <td>5.951819e-05</td>\n",
       "    </tr>\n",
       "    <tr>\n",
       "      <th>deathType-1</th>\n",
       "      <td>3.587363e-05</td>\n",
       "    </tr>\n",
       "    <tr>\n",
       "      <th>teamKills</th>\n",
       "      <td>2.889467e-05</td>\n",
       "    </tr>\n",
       "    <tr>\n",
       "      <th>deathType-3</th>\n",
       "      <td>1.774392e-05</td>\n",
       "    </tr>\n",
       "    <tr>\n",
       "      <th>vehicleDestroys</th>\n",
       "      <td>1.478070e-05</td>\n",
       "    </tr>\n",
       "    <tr>\n",
       "      <th>roadKills</th>\n",
       "      <td>1.195516e-05</td>\n",
       "    </tr>\n",
       "    <tr>\n",
       "      <th>mapName-2</th>\n",
       "      <td>4.429017e-07</td>\n",
       "    </tr>\n",
       "  </tbody>\n",
       "</table>\n",
       "</div>"
      ],
      "text/plain": [
       "                   importance\n",
       "groupCount       4.027869e-01\n",
       "walkDistance     3.682531e-01\n",
       "timeSurvived     1.029022e-01\n",
       "killPlace        8.520062e-02\n",
       "duration         1.495020e-02\n",
       "mapName-3        7.107231e-03\n",
       "deathType-0      2.714784e-03\n",
       "playerCount      2.577951e-03\n",
       "matchId          2.047878e-03\n",
       "kills            1.489373e-03\n",
       "killStreaks      1.377950e-03\n",
       "groupId          1.305666e-03\n",
       "longestKill      1.049342e-03\n",
       "damageDealt      1.001712e-03\n",
       "weaponsAcquired  7.272650e-04\n",
       "gameMode-3       5.825758e-04\n",
       "gameMode-2       4.984325e-04\n",
       "rideDistance     4.631846e-04\n",
       "heals            3.497360e-04\n",
       "mapName-0        3.330245e-04\n",
       "boosts           3.057851e-04\n",
       "gameMode-0       2.683809e-04\n",
       "mapName-1        2.575187e-04\n",
       "gameMode-1       2.488774e-04\n",
       "assists          2.172223e-04\n",
       "gameMode-5       1.863405e-04\n",
       "swimDistance     1.695401e-04\n",
       "DBNOs            1.399128e-04\n",
       "headshotKills    1.383145e-04\n",
       "gameMode-4       1.012011e-04\n",
       "revives          7.857565e-05\n",
       "deathType-2      5.951819e-05\n",
       "deathType-1      3.587363e-05\n",
       "teamKills        2.889467e-05\n",
       "deathType-3      1.774392e-05\n",
       "vehicleDestroys  1.478070e-05\n",
       "roadKills        1.195516e-05\n",
       "mapName-2        4.429017e-07"
      ]
     },
     "execution_count": 10,
     "metadata": {},
     "output_type": "execute_result"
    }
   ],
   "source": [
    "# Source: https://towardsdatascience.com/running-random-forests-inspect-the-feature-importances-with-this-code-2b00dd72b92e\n",
    "\n",
    "feature_importances = pd.DataFrame(rfr.feature_importances_,\n",
    "                                   index = train_X.columns,\n",
    "                                    columns=['importance']).sort_values('importance',ascending=False)\n",
    "feature_importances"
   ]
  },
  {
   "cell_type": "code",
   "execution_count": null,
   "metadata": {},
   "outputs": [],
   "source": []
  }
 ],
 "metadata": {
  "kernelspec": {
   "display_name": "Python 3",
   "language": "python",
   "name": "python3"
  },
  "language_info": {
   "codemirror_mode": {
    "name": "ipython",
    "version": 3
   },
   "file_extension": ".py",
   "mimetype": "text/x-python",
   "name": "python",
   "nbconvert_exporter": "python",
   "pygments_lexer": "ipython3",
   "version": "3.7.0"
  }
 },
 "nbformat": 4,
 "nbformat_minor": 2
}
