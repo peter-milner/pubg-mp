{
 "cells": [
  {
   "cell_type": "markdown",
   "metadata": {},
   "source": [
    "## Import libraries"
   ]
  },
  {
   "cell_type": "code",
   "execution_count": 1,
   "metadata": {},
   "outputs": [],
   "source": [
    "import pandas as pd\n",
    "from sklearn.preprocessing import LabelEncoder, OneHotEncoder, MinMaxScaler\n",
    "from sklearn.linear_model import LinearRegression, LassoCV, RidgeCV\n",
    "from sklearn.metrics import mean_squared_error"
   ]
  },
  {
   "cell_type": "markdown",
   "metadata": {},
   "source": [
    "## Load Dataset"
   ]
  },
  {
   "cell_type": "code",
   "execution_count": 2,
   "metadata": {},
   "outputs": [],
   "source": [
    "data = pd.read_csv('../data/processed/matches-2018-11-18T19:33:05.278801.csv', delimiter=',')"
   ]
  },
  {
   "cell_type": "code",
   "execution_count": 3,
   "metadata": {},
   "outputs": [],
   "source": [
    "# Based on previous investigation\n",
    "useless_columns = ['id', 'killPoints', 'killPointsDelta', 'rankPoints', 'winPoints', 'winPointsDelta',\n",
    "                   'stats', 'tags', 'createdAt', 'name', 'playerId', 'lastWinPoints', 'lastKillPoints',\n",
    "                   'titleId', 'shardId', 'seasonState', 'isCustomMatch']\n",
    "y_column = 'winPlace'"
   ]
  },
  {
   "cell_type": "markdown",
   "metadata": {},
   "source": [
    "## Split Sets"
   ]
  },
  {
   "cell_type": "code",
   "execution_count": 4,
   "metadata": {},
   "outputs": [],
   "source": [
    "data = data.drop(columns=useless_columns)\n",
    "\n",
    "# Grab 80% of data for training at random\n",
    "train = data.sample(frac=0.8)\n",
    "test = data.drop(train.index)\n",
    "\n",
    "train_Y = train[y_column]\n",
    "train_X = train.drop(columns=[y_column])\n",
    "\n",
    "test_Y = test[y_column]\n",
    "test_X = test.drop(columns=[y_column])"
   ]
  },
  {
   "cell_type": "markdown",
   "metadata": {},
   "source": [
    "## Pre-processing"
   ]
  },
  {
   "cell_type": "code",
   "execution_count": 5,
   "metadata": {},
   "outputs": [],
   "source": [
    "# Create subsets of columns\n",
    "\n",
    "categorical_columns = ['deathType', 'mapName', 'gameMode']\n",
    "ordinal_columns = ['group_id', 'match_id']\n",
    "# Ordinal columns are different from other_columns because they need to be encoded\n",
    "other_columns = list(set(train_X.columns.values) - set(categorical_columns) - set(ordinal_columns))"
   ]
  },
  {
   "cell_type": "code",
   "execution_count": 6,
   "metadata": {},
   "outputs": [],
   "source": [
    "# Vectorize categorical columns\n",
    "\n",
    "for c in categorical_columns:\n",
    "    le = LabelEncoder()\n",
    "    train_X[c] = le.fit_transform(train_X[c])\n",
    "    ohe = OneHotEncoder(sparse = False)\n",
    "    train_X = train_X.join(pd.DataFrame(list(ohe.fit_transform(train_X.pop(c).values.reshape(-1, 1))), columns = ['{}-{}'.format(c, i) for i in ohe.active_features_], index = train_X.index))\n",
    "    test_X[c] = le.transform(test_X[c])\n",
    "    test_X = test_X.join(pd.DataFrame(list(ohe.transform(test_X.pop(c).values.reshape(-1, 1))), columns = ['{}-{}'.format(c, i) for i in ohe.active_features_], index = test_X.index))"
   ]
  },
  {
   "cell_type": "code",
   "execution_count": 7,
   "metadata": {},
   "outputs": [],
   "source": [
    "# Encode ids\n",
    "\n",
    "for c in ordinal_columns:\n",
    "    le = LabelEncoder()\n",
    "    train_X[c] = le.fit_transform(train_X[c])\n",
    "    test_X[c] = le.transform(test_X[c])"
   ]
  },
  {
   "cell_type": "code",
   "execution_count": 8,
   "metadata": {},
   "outputs": [
    {
     "name": "stderr",
     "output_type": "stream",
     "text": [
      "/Users/petermilner/anaconda3/lib/python3.7/site-packages/sklearn/utils/validation.py:475: DataConversionWarning: Data with input dtype int64 was converted to float64 by MinMaxScaler.\n",
      "  warnings.warn(msg, DataConversionWarning)\n"
     ]
    }
   ],
   "source": [
    "# Scale\n",
    "\n",
    "for c in other_columns:\n",
    "    s = MinMaxScaler()\n",
    "    train_X[c] = s.fit_transform(train_X[c].values.reshape(-1, 1))\n",
    "    test_X[c] = s.transform(test_X[c].values.reshape(-1, 1))"
   ]
  },
  {
   "cell_type": "markdown",
   "metadata": {},
   "source": [
    "## Linear Regression"
   ]
  },
  {
   "cell_type": "code",
   "execution_count": 9,
   "metadata": {},
   "outputs": [
    {
     "name": "stdout",
     "output_type": "stream",
     "text": [
      "Regular Linear Regression Error: 66.30482696328612\n",
      "Linear Regression with Ridge Error: 66.30982640554949\n",
      "Best alpha: 0.1\n",
      "Linear Regression with Lasso Error: 108.31291443128379\n",
      "Best alpha: 0.3896464250485547\n"
     ]
    }
   ],
   "source": [
    "lr = LinearRegression()\n",
    "lr.fit(X=train_X, y=train_Y)\n",
    "\n",
    "pred = lr.predict(test_X)\n",
    "\n",
    "print('Regular Linear Regression Error: {}'.format(mean_squared_error(test_Y, pred)))\n",
    "\n",
    "lr = RidgeCV()\n",
    "lr.fit(X=train_X, y=train_Y)\n",
    "\n",
    "pred = lr.predict(test_X)\n",
    "\n",
    "print('Linear Regression with Ridge Error: {}'.format(mean_squared_error(test_Y, pred)))\n",
    "print('Best alpha: {}'.format(lr.alpha_))\n",
    "\n",
    "lr = LassoCV()\n",
    "lr.fit(X=train_X, y=train_Y)\n",
    "\n",
    "pred = lr.predict(test_X)\n",
    "\n",
    "print('Linear Regression with Lasso Error: {}'.format(mean_squared_error(test_Y, pred)))\n",
    "print('Best alpha: {}'.format(lr.alpha_))"
   ]
  }
 ],
 "metadata": {
  "kernelspec": {
   "display_name": "Python 3",
   "language": "python",
   "name": "python3"
  },
  "language_info": {
   "codemirror_mode": {
    "name": "ipython",
    "version": 3
   },
   "file_extension": ".py",
   "mimetype": "text/x-python",
   "name": "python",
   "nbconvert_exporter": "python",
   "pygments_lexer": "ipython3",
   "version": "3.7.0"
  }
 },
 "nbformat": 4,
 "nbformat_minor": 2
}
